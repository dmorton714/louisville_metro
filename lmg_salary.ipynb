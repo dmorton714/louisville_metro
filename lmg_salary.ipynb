{
  "nbformat": 4,
  "nbformat_minor": 0,
  "metadata": {
    "colab": {
      "name": "lmg_salary.ipynb",
      "provenance": [],
      "collapsed_sections": [],
      "authorship_tag": "ABX9TyOHCQTpm1XhgKWApBYgsTHQ",
      "include_colab_link": true
    },
    "kernelspec": {
      "name": "python3",
      "display_name": "Python 3"
    },
    "language_info": {
      "name": "python"
    }
  },
  "cells": [
    {
      "cell_type": "markdown",
      "metadata": {
        "id": "view-in-github",
        "colab_type": "text"
      },
      "source": [
        "<a href=\"https://colab.research.google.com/github/dmorton714/louisville_metro/blob/main/lmg_salary.ipynb\" target=\"_parent\"><img src=\"https://colab.research.google.com/assets/colab-badge.svg\" alt=\"Open In Colab\"/></a>"
      ]
    },
    {
      "cell_type": "code",
      "execution_count": 72,
      "metadata": {
        "id": "gzH1mer_3w1v"
      },
      "outputs": [],
      "source": [
        "import pandas as pd\n",
        "import matplotlib.pyplot as plt\n",
        "import matplotlib.dates as mdates\n",
        "import datetime\n",
        "import csv\n",
        "import numpy as np"
      ]
    },
    {
      "cell_type": "code",
      "source": [
        "df = pd.read_csv('/content/salary.csv', encoding='cp1252')\n",
        "\n",
        "header_row\n",
        "\n"
      ],
      "metadata": {
        "colab": {
          "base_uri": "https://localhost:8080/"
        },
        "id": "h_GAO-nQ3xZ3",
        "outputId": "49c299e6-dee5-4bb8-c04b-79cc12c609c1"
      },
      "execution_count": 75,
      "outputs": [
        {
          "output_type": "execute_result",
          "data": {
            "text/plain": [
              "['CalYear',\n",
              " 'Employee_Name',\n",
              " 'Department',\n",
              " 'jobTitle',\n",
              " 'Annual_Rate',\n",
              " 'Regular_Rate',\n",
              " 'Overtime_Rate',\n",
              " 'Incentive_Allowance',\n",
              " 'Other',\n",
              " 'YTD_Total']"
            ]
          },
          "metadata": {},
          "execution_count": 75
        }
      ]
    },
    {
      "cell_type": "code",
      "source": [
        "#find unique points values\n",
        "department = df.Department.unique()\n",
        "\n",
        "#sort values smallest to largest\n",
        "department.sort()\n",
        "\n",
        "#display sorted values\n",
        "department\n",
        "\n",
        "# print(df['Annual_Rate'].max())"
      ],
      "metadata": {
        "colab": {
          "base_uri": "https://localhost:8080/"
        },
        "id": "6gAhW3YVNfoF",
        "outputId": "0eaa7c6a-f0bb-4577-9c39-ff9a57fd54be"
      },
      "execution_count": 74,
      "outputs": [
        {
          "output_type": "execute_result",
          "data": {
            "text/plain": [
              "array(['Air Pollution Control', 'Belle of Louisville',\n",
              "       'Commonwealth Attorney', 'Coroner', 'County Attorney',\n",
              "       'Criminal Justice Commission', 'Develop Louisville',\n",
              "       'Economic Development', 'Emergency Mgt Agency/MetroSafe',\n",
              "       'Finance', 'Fire Settlement', 'Human Relations Commission',\n",
              "       'Human Resources', 'Human Services',\n",
              "       'Inspections, Permits & License', 'Internal Auditor',\n",
              "       'Kentuckiana Works Foundation', 'Library', 'Louisville Fire',\n",
              "       'Louisville Metro EMS', 'Louisville Metro Police',\n",
              "       'Louisville Zoo', \"Mayor's Office\", 'Metro Animal Services',\n",
              "       'Metro Corrections', 'Metro Council', 'OMB - Billing Services',\n",
              "       'Office of Equity', 'Office of Inspector General',\n",
              "       'Office of Performance Improvmt', 'Other Officials',\n",
              "       'Parking Authority of River Cty', 'Parks & Recreation',\n",
              "       'Public Health & Wellness', 'Public Works', 'Revenue Commission',\n",
              "       'Safe & Healthy Neighborhoods', 'Solid Waste Management',\n",
              "       'Technology Services', 'Waterfront Development Corp',\n",
              "       'Youth Detention Services'], dtype=object)"
            ]
          },
          "metadata": {},
          "execution_count": 74
        }
      ]
    },
    {
      "cell_type": "code",
      "source": [
        "department = {\n",
        "  'Air Pollution Control': [], \n",
        "  'Belle of Louisville' : [],\n",
        "  'Commonwealth Attorney' : [],\n",
        "  'Coroner' : [],\n",
        "  'County Attorney': [],\n",
        "  'Criminal Justice Commission': [], \n",
        "  'Develop Louisville': [],\n",
        "  'Economic Development': [], \n",
        "  'Emergency Mgt Agency/MetroSafe': [],\n",
        "  'Finance': [], \n",
        "  'Fire Settlement': [], \n",
        "  'Human Relations Commission': [],\n",
        "  'Human Resources': [], \n",
        "  'Human Services': [],\n",
        "  'Inspections, Permits & License': [], \n",
        "  'Internal Auditor': [],\n",
        "  'Kentuckiana Works Foundation': [], \n",
        "  'Library': [], \n",
        "  'Louisville Fire': [],\n",
        "  'Louisville Metro EMS': [], \n",
        "  'Louisville Metro Police': [],\n",
        "  'Louisville Zoo': [], \n",
        "  \"Mayor's Office\": [], \n",
        "  'Metro Animal Services': [],\n",
        "  'Metro Corrections': [], \n",
        "  'Metro Council': [], \n",
        "  'OMB - Billing Services': [],\n",
        "  'Office of Equity': [], \n",
        "  'Office of Inspector General': [],\n",
        "  'Office of Performance Improvmt': [], \n",
        "  'Other Officials': [],\n",
        "  'Parking Authority of River Cty': [], \n",
        "  'Parks & Recreation': [],      \n",
        "  'Public Health & Wellness': [], \n",
        "  'Public Works': [], \n",
        "  'Revenue Commission': [],       \n",
        "  'Safe & Healthy Neighborhoods': [], \n",
        "  'Solid Waste Management': [],       \n",
        "  'Technology Services': [], \n",
        "  'Waterfront Development Corp': [],       \n",
        "  'Youth Detention Services': []\n",
        "}\n",
        "\n",
        "# Annual_Rate = ('salary')\n",
        "\n",
        "\n",
        "# for salary in Annual_Rate:  \n",
        "#   for Departments in department:\n",
        "#     department[Departments].append([Annual_Rate].sum())\n",
        "\n",
        "\n"
      ],
      "metadata": {
        "colab": {
          "base_uri": "https://localhost:8080/",
          "height": 200
        },
        "id": "ipMsnZrJB0OX",
        "outputId": "d38e6b1f-f9e2-4ea1-de56-c521799910e9"
      },
      "execution_count": 69,
      "outputs": [
        {
          "output_type": "error",
          "ename": "TypeError",
          "evalue": "ignored",
          "traceback": [
            "\u001b[0;31m---------------------------------------------------------------------------\u001b[0m",
            "\u001b[0;31mTypeError\u001b[0m                                 Traceback (most recent call last)",
            "\u001b[0;32m<ipython-input-69-50f1eb0fa443>\u001b[0m in \u001b[0;36m<module>\u001b[0;34m()\u001b[0m\n\u001b[1;32m     50\u001b[0m \u001b[0;31m#     department[Departments].append([Annual_Rate].sum())\u001b[0m\u001b[0;34m\u001b[0m\u001b[0;34m\u001b[0m\u001b[0;34m\u001b[0m\u001b[0m\n\u001b[1;32m     51\u001b[0m \u001b[0;34m\u001b[0m\u001b[0m\n\u001b[0;32m---> 52\u001b[0;31m \u001b[0mprint\u001b[0m\u001b[0;34m(\u001b[0m\u001b[0mdf\u001b[0m\u001b[0;34m[\u001b[0m\u001b[0;34m'Annual_Rate'\u001b[0m\u001b[0;34m]\u001b[0m\u001b[0;34m.\u001b[0m\u001b[0mmax\u001b[0m\u001b[0;34m(\u001b[0m\u001b[0;34m)\u001b[0m\u001b[0;34m)\u001b[0m\u001b[0;34m\u001b[0m\u001b[0;34m\u001b[0m\u001b[0m\n\u001b[0m",
            "\u001b[0;31mTypeError\u001b[0m: 'DataFrame' object is not callable"
          ]
        }
      ]
    }
  ]
}